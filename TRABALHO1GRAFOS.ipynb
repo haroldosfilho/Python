{
  "nbformat": 4,
  "nbformat_minor": 0,
  "metadata": {
    "colab": {
      "name": "TRABALHO1GRAFOS.ipynb",
      "provenance": [],
      "authorship_tag": "ABX9TyPnqohRMEJskEDzKjO4w7Rs",
      "include_colab_link": true
    },
    "kernelspec": {
      "name": "python3",
      "display_name": "Python 3"
    },
    "language_info": {
      "name": "python"
    }
  },
  "cells": [
    {
      "cell_type": "markdown",
      "metadata": {
        "id": "view-in-github",
        "colab_type": "text"
      },
      "source": [
        "<a href=\"https://colab.research.google.com/github/haroldosfilho/Python/blob/master/TRABALHO1GRAFOS.ipynb\" target=\"_parent\"><img src=\"https://colab.research.google.com/assets/colab-badge.svg\" alt=\"Open In Colab\"/></a>"
      ]
    },
    {
      "cell_type": "markdown",
      "metadata": {
        "id": "sKRaYOGJ3ELS"
      },
      "source": [
        "bibliotecas utilizadas"
      ]
    },
    {
      "cell_type": "markdown",
      "metadata": {
        "id": "YOcLAhlM_A39"
      },
      "source": [
        "Aperte Play para inicializar as bibliotecas\n"
      ]
    },
    {
      "cell_type": "code",
      "metadata": {
        "id": "2QU2NdGuSSB2"
      },
      "source": [
        "import networkx as nx\n",
        "import matplotlib.pyplot as plt\n",
        "import numpy as np\n"
      ],
      "execution_count": null,
      "outputs": []
    },
    {
      "cell_type": "markdown",
      "metadata": {
        "id": "p63SktbP8D6l"
      },
      "source": [
        "Entre com o número de vértces do seu grafo e digite enter.\n"
      ]
    },
    {
      "cell_type": "code",
      "metadata": {
        "colab": {
          "base_uri": "https://localhost:8080/"
        },
        "id": "a7n8lTLA3Lbl",
        "outputId": "1e755b10-d43c-4689-c45f-10d5d6f3af67"
      },
      "source": [
        "n = input(\"entre com o numero de vertices:\" )"
      ],
      "execution_count": null,
      "outputs": [
        {
          "output_type": "stream",
          "text": [
            "entre com o numero de vertices:5\n"
          ],
          "name": "stdout"
        }
      ]
    },
    {
      "cell_type": "markdown",
      "metadata": {
        "id": "fP02aVMk5w7r"
      },
      "source": [
        "aperte o play para tranformar num número inteiro a sua entrada."
      ]
    },
    {
      "cell_type": "code",
      "metadata": {
        "colab": {
          "base_uri": "https://localhost:8080/"
        },
        "id": "V2V4xBkV5aay",
        "outputId": "ea417c23-fc3f-438f-acdb-3697d502bc0b"
      },
      "source": [
        "num=int(str(n))\n",
        "print(num)"
      ],
      "execution_count": null,
      "outputs": [
        {
          "output_type": "stream",
          "text": [
            "5\n"
          ],
          "name": "stdout"
        }
      ]
    },
    {
      "cell_type": "markdown",
      "metadata": {
        "id": "PIFRqt6h6PKS"
      },
      "source": [
        "aperte o play para gerar a lista dos vértices do seu Grafo"
      ]
    },
    {
      "cell_type": "code",
      "metadata": {
        "colab": {
          "base_uri": "https://localhost:8080/"
        },
        "id": "f8oPQBeP6EdU",
        "outputId": "764d7940-da26-4fd4-ea6a-6fb498367aa9"
      },
      "source": [
        "G = nx.path_graph(num)\n",
        "list(G.nodes)\n"
      ],
      "execution_count": null,
      "outputs": [
        {
          "output_type": "execute_result",
          "data": {
            "text/plain": [
              "[0, 1, 2, 3, 4]"
            ]
          },
          "metadata": {
            "tags": []
          },
          "execution_count": 21
        }
      ]
    },
    {
      "cell_type": "code",
      "metadata": {
        "id": "UU-C_GcO6mMv",
        "colab": {
          "base_uri": "https://localhost:8080/"
        },
        "outputId": "3f2a4ad2-1232-4053-fe65-b9c6f6a9e39c"
      },
      "source": [
        "m = int(input(\"Entre com o número de arestas : \"))"
      ],
      "execution_count": 22,
      "outputs": [
        {
          "output_type": "stream",
          "text": [
            "Entre com o número de arestas : 7\n"
          ],
          "name": "stdout"
        }
      ]
    },
    {
      "cell_type": "markdown",
      "metadata": {
        "id": "Rjxf34DhB8W9"
      },
      "source": [
        "Digite as suas arestas, quais vértices estão conectados, aperte enter após cada aresta informada.\n"
      ]
    },
    {
      "cell_type": "code",
      "metadata": {
        "colab": {
          "base_uri": "https://localhost:8080/"
        },
        "id": "Q3QjTxi4BhrO",
        "outputId": "9c5f6b24-0b7e-4170-be22-52b40df489ad"
      },
      "source": [
        "# creating an empty list\n",
        "lst = []\n",
        "# iterating till the range\n",
        "for i in range(0, m):\n",
        "    ele = str(input())\n",
        "    lst.append(ele) # adding the element\n",
        "     \n",
        "print(lst)"
      ],
      "execution_count": 23,
      "outputs": [
        {
          "output_type": "stream",
          "text": [
            "01\n",
            "12\n",
            "13\n",
            "23\n",
            "24\n",
            "34\n",
            "02\n",
            "['01', '12', '13', '23', '24', '34', '02']\n"
          ],
          "name": "stdout"
        }
      ]
    },
    {
      "cell_type": "markdown",
      "metadata": {
        "id": "n7wbmnXZDR3c"
      },
      "source": [
        "aperte play para gerar uma representação no plano do seu Grafo."
      ]
    },
    {
      "cell_type": "code",
      "metadata": {
        "colab": {
          "base_uri": "https://localhost:8080/",
          "height": 319
        },
        "id": "WWka7_FMDQ0k",
        "outputId": "c1cf328e-25e2-46e1-b9f8-9096424990b3"
      },
      "source": [
        "G = nx.Graph(lst)\n",
        "opts = { \"with_labels\": True, \"node_color\": 'y' }\n",
        "nx.draw(G, **opts)\n"
      ],
      "execution_count": 24,
      "outputs": [
        {
          "output_type": "display_data",
          "data": {
            "image/png": "[encoded data removed]",
            "text/plain": [
              "<Figure size 432x288 with 1 Axes>"
            ]
          },
          "metadata": {
            "tags": []
          }
        }
      ]
    },
    {
      "cell_type": "markdown",
      "metadata": {
        "id": "44hhwXr_Dly2"
      },
      "source": [
        "aperte o play para gerar os elementos da sua matriz de adjacência do seu Grafo\n"
      ]
    },
    {
      "cell_type": "code",
      "metadata": {
        "colab": {
          "base_uri": "https://localhost:8080/"
        },
        "id": "N2YSuUGbEVrz",
        "outputId": "1c7a8ddb-6362-464e-9328-9bc32925a6d5"
      },
      "source": [
        "A = nx.adjacency_matrix(G)\n",
        "print(A)"
      ],
      "execution_count": 25,
      "outputs": [
        {
          "output_type": "stream",
          "text": [
            "  (0, 1)\t1\n",
            "  (0, 2)\t1\n",
            "  (1, 0)\t1\n",
            "  (1, 2)\t1\n",
            "  (1, 3)\t1\n",
            "  (2, 0)\t1\n",
            "  (2, 1)\t1\n",
            "  (2, 3)\t1\n",
            "  (2, 4)\t1\n",
            "  (3, 1)\t1\n",
            "  (3, 2)\t1\n",
            "  (3, 4)\t1\n",
            "  (4, 2)\t1\n",
            "  (4, 3)\t1\n"
          ],
          "name": "stdout"
        }
      ]
    },
    {
      "cell_type": "markdown",
      "metadata": {
        "id": "l1ZD6uHSEgPe"
      },
      "source": [
        "Agora basta apertar o play e a sua matriz de adjacência está pronta!"
      ]
    },
    {
      "cell_type": "code",
      "metadata": {
        "colab": {
          "base_uri": "https://localhost:8080/"
        },
        "id": "y000BU6cEsQt",
        "outputId": "715b7140-26f2-432b-b07d-840466f5868c"
      },
      "source": [
        "A = nx.adjacency_matrix(G).toarray()\n",
        "\n",
        "print(A)"
      ],
      "execution_count": 26,
      "outputs": [
        {
          "output_type": "stream",
          "text": [
            "[[0 1 1 0 0]\n",
            " [1 0 1 1 0]\n",
            " [1 1 0 1 1]\n",
            " [0 1 1 0 1]\n",
            " [0 0 1 1 0]]\n"
          ],
          "name": "stdout"
        }
      ]
    }
  ]
}