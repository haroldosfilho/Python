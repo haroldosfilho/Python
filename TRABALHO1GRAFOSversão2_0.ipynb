{
  "nbformat": 4,
  "nbformat_minor": 0,
  "metadata": {
    "colab": {
      "name": "TRABALHO1GRAFOSversão2.0.ipynb",
      "provenance": [],
      "authorship_tag": "ABX9TyM0UqgQFJ4OpHxUuvxY79Tq",
      "include_colab_link": true
    },
    "kernelspec": {
      "name": "python3",
      "display_name": "Python 3"
    },
    "language_info": {
      "name": "python"
    }
  },
  "cells": [
    {
      "cell_type": "markdown",
      "metadata": {
        "id": "view-in-github",
        "colab_type": "text"
      },
      "source": [
        "<a href=\"https://colab.research.google.com/github/haroldosfilho/Python/blob/master/TRABALHO1GRAFOSvers%C3%A3o2_0.ipynb\" target=\"_parent\"><img src=\"https://colab.research.google.com/assets/colab-badge.svg\" alt=\"Open In Colab\"/></a>"
      ]
    },
    {
      "cell_type": "markdown",
      "metadata": {
        "id": "sKRaYOGJ3ELS"
      },
      "source": [
        "bibliotecas utilizadas"
      ]
    },
    {
      "cell_type": "markdown",
      "metadata": {
        "id": "YOcLAhlM_A39"
      },
      "source": [
        "Aperte Play para inicializar as bibliotecas\n"
      ]
    },
    {
      "cell_type": "code",
      "metadata": {
        "id": "2QU2NdGuSSB2"
      },
      "source": [
        "import networkx as nx\n",
        "import matplotlib.pyplot as plt\n",
        "import numpy as np\n"
      ],
      "execution_count": null,
      "outputs": []
    },
    {
      "cell_type": "markdown",
      "metadata": {
        "id": "p63SktbP8D6l"
      },
      "source": [
        "Entre com o número de vértces do seu grafo e digite enter.\n"
      ]
    },
    {
      "cell_type": "code",
      "metadata": {
        "colab": {
          "base_uri": "https://localhost:8080/"
        },
        "id": "a7n8lTLA3Lbl",
        "outputId": "5483b7df-273a-4d8b-c4c2-72238a55f522"
      },
      "source": [
        "n = input(\"entre com o numero de vertices:\" )"
      ],
      "execution_count": null,
      "outputs": [
        {
          "output_type": "stream",
          "text": [
            "entre com o numero de vertices:5\n"
          ],
          "name": "stdout"
        }
      ]
    },
    {
      "cell_type": "markdown",
      "metadata": {
        "id": "fP02aVMk5w7r"
      },
      "source": [
        "aperte o play para tranformar num número inteiro a sua entrada."
      ]
    },
    {
      "cell_type": "code",
      "metadata": {
        "colab": {
          "base_uri": "https://localhost:8080/"
        },
        "id": "V2V4xBkV5aay",
        "outputId": "0e4cd4e8-8c75-42de-fba2-504a41600965"
      },
      "source": [
        "num=int(str(n))\n",
        "print(num)"
      ],
      "execution_count": null,
      "outputs": [
        {
          "output_type": "stream",
          "text": [
            "5\n"
          ],
          "name": "stdout"
        }
      ]
    },
    {
      "cell_type": "markdown",
      "metadata": {
        "id": "PIFRqt6h6PKS"
      },
      "source": [
        "aperte o play para gerar a lista dos vértices do seu Grafo"
      ]
    },
    {
      "cell_type": "code",
      "metadata": {
        "colab": {
          "base_uri": "https://localhost:8080/"
        },
        "id": "f8oPQBeP6EdU",
        "outputId": "d47b5204-1d34-4b94-d5f7-dab2125de36d"
      },
      "source": [
        "G = nx.path_graph(num)\n",
        "list(G.nodes)\n"
      ],
      "execution_count": null,
      "outputs": [
        {
          "output_type": "execute_result",
          "data": {
            "text/plain": [
              "[0, 1, 2, 3, 4]"
            ]
          },
          "metadata": {
            "tags": []
          },
          "execution_count": 30
        }
      ]
    },
    {
      "cell_type": "code",
      "metadata": {
        "id": "UU-C_GcO6mMv",
        "colab": {
          "base_uri": "https://localhost:8080/"
        },
        "outputId": "3f2a4ad2-1232-4053-fe65-b9c6f6a9e39c"
      },
      "source": [
        "m = int(input(\"Entre com o número de arestas : \"))"
      ],
      "execution_count": null,
      "outputs": [
        {
          "output_type": "stream",
          "text": [
            "Entre com o número de arestas : 7\n"
          ],
          "name": "stdout"
        }
      ]
    },
    {
      "cell_type": "markdown",
      "metadata": {
        "id": "Rjxf34DhB8W9"
      },
      "source": [
        "Digite as suas arestas, quais vértices estão conectados, aperte enter após cada aresta informada. Digite sempre na ordem, isto é, se os vértices 1 e 2 estão conectados, digite 12 e não 21, para criar uma matriz traigular superior, como a matriz é simétrica, então não há os elementos a_{12}=a_{21}.\n"
      ]
    },
    {
      "cell_type": "code",
      "metadata": {
        "colab": {
          "base_uri": "https://localhost:8080/"
        },
        "id": "Q3QjTxi4BhrO",
        "outputId": "106e445c-4d31-4092-891e-f6fe27146271"
      },
      "source": [
        "# creating an empty list\n",
        "lst = []\n",
        "# iterating till the range\n",
        "for i in range(0, m):\n",
        "    ele = str(input())\n",
        "    lst.append(ele) # adding the element\n",
        "     \n",
        "print(lst)"
      ],
      "execution_count": null,
      "outputs": [
        {
          "output_type": "stream",
          "text": [
            "01\n",
            "02\n",
            "03\n",
            "04\n",
            "12\n",
            "13\n",
            "24\n",
            "['01', '02', '03', '04', '12', '13', '24']\n"
          ],
          "name": "stdout"
        }
      ]
    },
    {
      "cell_type": "markdown",
      "metadata": {
        "id": "n7wbmnXZDR3c"
      },
      "source": [
        "aperte play para gerar uma representação no plano do seu Grafo."
      ]
    },
    {
      "cell_type": "code",
      "metadata": {
        "colab": {
          "base_uri": "https://localhost:8080/",
          "height": 319
        },
        "id": "WWka7_FMDQ0k",
        "outputId": "857b49c1-72c3-4d54-bedd-8f5912bf05f0"
      },
      "source": [
        "G = nx.Graph(lst)\n",
        "opts = { \"with_labels\": True, \"node_color\": 'y' }\n",
        "nx.draw(G, **opts)\n"
      ],
      "execution_count": null,
      "outputs": [
        {
          "output_type": "display_data",
          "data": {
            "image/png": "[encoded data removed]",
            "text/plain": [
              "<Figure size 432x288 with 1 Axes>"
            ]
          },
          "metadata": {
            "tags": []
          }
        }
      ]
    },
    {
      "cell_type": "markdown",
      "metadata": {
        "id": "44hhwXr_Dly2"
      },
      "source": [
        "aperte o play para gerar os elementos da sua matriz de adjacência do seu Grafo\n"
      ]
    },
    {
      "cell_type": "code",
      "metadata": {
        "colab": {
          "base_uri": "https://localhost:8080/"
        },
        "id": "N2YSuUGbEVrz",
        "outputId": "8a2fc9b3-6bb4-4470-9fc8-870dab01f503"
      },
      "source": [
        "A = nx.adjacency_matrix(G)\n",
        "print(A)"
      ],
      "execution_count": null,
      "outputs": [
        {
          "output_type": "stream",
          "text": [
            "  (0, 1)\t1\n",
            "  (0, 2)\t1\n",
            "  (0, 3)\t1\n",
            "  (0, 4)\t1\n",
            "  (1, 0)\t1\n",
            "  (1, 2)\t1\n",
            "  (1, 3)\t1\n",
            "  (2, 0)\t1\n",
            "  (2, 1)\t1\n",
            "  (2, 4)\t1\n",
            "  (3, 0)\t1\n",
            "  (3, 1)\t1\n",
            "  (4, 0)\t1\n",
            "  (4, 2)\t1\n"
          ],
          "name": "stdout"
        }
      ]
    },
    {
      "cell_type": "markdown",
      "metadata": {
        "id": "l1ZD6uHSEgPe"
      },
      "source": [
        "Agora basta apertar o play e a sua matriz de adjacência está pronta!"
      ]
    },
    {
      "cell_type": "code",
      "metadata": {
        "colab": {
          "base_uri": "https://localhost:8080/"
        },
        "id": "y000BU6cEsQt",
        "outputId": "f4c93a7e-3f4f-412b-9159-8cb8dcd63133"
      },
      "source": [
        "A = nx.adjacency_matrix(G).toarray()\n",
        "\n",
        "print(A)"
      ],
      "execution_count": null,
      "outputs": [
        {
          "output_type": "stream",
          "text": [
            "[[0 1 1 1 1]\n",
            " [1 0 1 1 0]\n",
            " [1 1 0 0 1]\n",
            " [1 1 0 0 0]\n",
            " [1 0 1 0 0]]\n"
          ],
          "name": "stdout"
        }
      ]
    }
  ]
}