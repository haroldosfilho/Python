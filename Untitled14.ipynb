{
  "nbformat": 4,
  "nbformat_minor": 0,
  "metadata": {
    "colab": {
      "name": "Untitled14.ipynb",
      "provenance": [],
      "authorship_tag": "ABX9TyNdBRx1KbSnaUxGPTcTVGiQ",
      "include_colab_link": true
    },
    "kernelspec": {
      "name": "python3",
      "display_name": "Python 3"
    },
    "language_info": {
      "name": "python"
    }
  },
  "cells": [
    {
      "cell_type": "markdown",
      "metadata": {
        "id": "view-in-github",
        "colab_type": "text"
      },
      "source": [
        "<a href=\"https://colab.research.google.com/github/haroldosfilho/Python/blob/master/Untitled14.ipynb\" target=\"_parent\"><img src=\"https://colab.research.google.com/assets/colab-badge.svg\" alt=\"Open In Colab\"/></a>"
      ]
    },
    {
      "cell_type": "code",
      "metadata": {
        "id": "YOVZqHEBaHTJ"
      },
      "source": [
        ""
      ],
      "execution_count": null,
      "outputs": []
    },
    {
      "cell_type": "code",
      "metadata": {
        "id": "2QU2NdGuSSB2"
      },
      "source": [
        "import networkx as nx\n",
        "import matplotlib.pyplot as plt\n",
        "import numpy as np\n"
      ],
      "execution_count": 1,
      "outputs": []
    },
    {
      "cell_type": "code",
      "metadata": {
        "colab": {
          "base_uri": "https://localhost:8080/"
        },
        "id": "jo0ip0SGaPPm",
        "outputId": "8f86b7c9-a0a2-4bea-b132-bb9d2c17b408"
      },
      "source": [
        "G = nx.path_graph(3)\n",
        "list(G.nodes)\n",
        "[0, 1, 2]"
      ],
      "execution_count": 32,
      "outputs": [
        {
          "output_type": "execute_result",
          "data": {
            "text/plain": [
              "[0, 1, 2]"
            ]
          },
          "metadata": {
            "tags": []
          },
          "execution_count": 32
        }
      ]
    },
    {
      "cell_type": "code",
      "metadata": {
        "id": "q_7HVUZzaVtk"
      },
      "source": [
        ""
      ],
      "execution_count": null,
      "outputs": []
    },
    {
      "cell_type": "code",
      "metadata": {
        "colab": {
          "base_uri": "https://localhost:8080/"
        },
        "id": "5_6ZO45wajul",
        "outputId": "8f145eac-0404-4be3-fad3-e691cd47f534"
      },
      "source": [
        "G = nx.path_graph(4)\n",
        "list(G.nodes)\n"
      ],
      "execution_count": 33,
      "outputs": [
        {
          "output_type": "execute_result",
          "data": {
            "text/plain": [
              "[0, 1, 2, 3]"
            ]
          },
          "metadata": {
            "tags": []
          },
          "execution_count": 33
        }
      ]
    },
    {
      "cell_type": "code",
      "metadata": {
        "colab": {
          "base_uri": "https://localhost:8080/",
          "height": 319
        },
        "id": "PtJLUyHJbVKY",
        "outputId": "64d61f24-5174-433e-bc09-43fff71624bf"
      },
      "source": [
        "G = nx.Graph([\"AB\", \"BC\", \"BD\", \"CD\", \"DE\",\"AC\",\"CE\"])\n",
        "opts = { \"with_labels\": True, \"node_color\": 'y' }\n",
        "nx.draw(G, **opts)"
      ],
      "execution_count": 7,
      "outputs": [
        {
          "output_type": "display_data",
          "data": {
            "image/png": "[encoded data removed]",
            "text/plain": [
              "<Figure size 432x288 with 1 Axes>"
            ]
          },
          "metadata": {
            "tags": []
          }
        }
      ]
    },
    {
      "cell_type": "code",
      "metadata": {
        "colab": {
          "base_uri": "https://localhost:8080/"
        },
        "id": "guGZyPp-bkq9",
        "outputId": "62492950-899b-400c-8d3b-aed24bbb5d4f"
      },
      "source": [
        "A = nx.adjacency_matrix(G)\n",
        "print(A)"
      ],
      "execution_count": 8,
      "outputs": [
        {
          "output_type": "stream",
          "text": [
            "  (0, 1)\t1\n",
            "  (0, 2)\t1\n",
            "  (1, 0)\t1\n",
            "  (1, 2)\t1\n",
            "  (1, 3)\t1\n",
            "  (2, 0)\t1\n",
            "  (2, 1)\t1\n",
            "  (2, 3)\t1\n",
            "  (2, 4)\t1\n",
            "  (3, 1)\t1\n",
            "  (3, 2)\t1\n",
            "  (3, 4)\t1\n",
            "  (4, 2)\t1\n",
            "  (4, 3)\t1\n"
          ],
          "name": "stdout"
        }
      ]
    },
    {
      "cell_type": "code",
      "metadata": {
        "colab": {
          "base_uri": "https://localhost:8080/"
        },
        "id": "5PxmrxwjcEco",
        "outputId": "43bd04ca-8beb-4627-bd48-5e3f7c741fe8"
      },
      "source": [
        "type(A)\n"
      ],
      "execution_count": 9,
      "outputs": [
        {
          "output_type": "execute_result",
          "data": {
            "text/plain": [
              "scipy.sparse.csr.csr_matrix"
            ]
          },
          "metadata": {
            "tags": []
          },
          "execution_count": 9
        }
      ]
    },
    {
      "cell_type": "code",
      "metadata": {
        "colab": {
          "base_uri": "https://localhost:8080/"
        },
        "id": "VKuGuRnhcKIt",
        "outputId": "ce08f955-0444-4abb-9fd6-9a413529b703"
      },
      "source": [
        "print((A**0).toarray())"
      ],
      "execution_count": 10,
      "outputs": [
        {
          "output_type": "stream",
          "text": [
            "[[1 0 0 0 0]\n",
            " [0 1 0 0 0]\n",
            " [0 0 1 0 0]\n",
            " [0 0 0 1 0]\n",
            " [0 0 0 0 1]]\n"
          ],
          "name": "stdout"
        }
      ]
    },
    {
      "cell_type": "code",
      "metadata": {
        "colab": {
          "base_uri": "https://localhost:8080/"
        },
        "id": "jFt3-O5-dfnQ",
        "outputId": "b73bf92a-795f-4545-b121-fe889d18c031"
      },
      "source": [
        "A = nx.adjacency_matrix(G).toarray()\n",
        "AA = A @ A\n",
        "print(AA)"
      ],
      "execution_count": 12,
      "outputs": [
        {
          "output_type": "stream",
          "text": [
            "[[2 1 1 2 1]\n",
            " [1 3 2 1 2]\n",
            " [1 2 4 2 1]\n",
            " [2 1 2 3 1]\n",
            " [1 2 1 1 2]]\n"
          ],
          "name": "stdout"
        }
      ]
    },
    {
      "cell_type": "code",
      "metadata": {
        "id": "nNOJI959eYfs"
      },
      "source": [
        ""
      ],
      "execution_count": null,
      "outputs": []
    },
    {
      "cell_type": "code",
      "metadata": {
        "colab": {
          "base_uri": "https://localhost:8080/"
        },
        "id": "6qbfRa1segCt",
        "outputId": "aeac8636-ebaf-4095-a93d-03a9b6fffb40"
      },
      "source": [
        "A = nx.adjacency_matrix(G).toarray()\n",
        "\n",
        "print(A)"
      ],
      "execution_count": 15,
      "outputs": [
        {
          "output_type": "stream",
          "text": [
            "[[0 1 1 0 0]\n",
            " [1 0 1 1 0]\n",
            " [1 1 0 1 1]\n",
            " [0 1 1 0 1]\n",
            " [0 0 1 1 0]]\n"
          ],
          "name": "stdout"
        }
      ]
    },
    {
      "cell_type": "code",
      "metadata": {
        "colab": {
          "base_uri": "https://localhost:8080/"
        },
        "id": "L7OwqnSadyXF",
        "outputId": "5652d0af-893e-47e9-d01d-cd3f024da2e9"
      },
      "source": [
        "AA[AA>1] = 1\n",
        "print(AA)"
      ],
      "execution_count": 13,
      "outputs": [
        {
          "output_type": "stream",
          "text": [
            "[[1 1 1 1 1]\n",
            " [1 1 1 1 1]\n",
            " [1 1 1 1 1]\n",
            " [1 1 1 1 1]\n",
            " [1 1 1 1 1]]\n"
          ],
          "name": "stdout"
        }
      ]
    },
    {
      "cell_type": "code",
      "metadata": {
        "colab": {
          "base_uri": "https://localhost:8080/"
        },
        "id": "05rI1g7zeKkQ",
        "outputId": "d84c29e7-3da4-4e20-a68b-cb414abadef8"
      },
      "source": [
        "np.fill_diagonal(AA, 0)\n",
        "print(AA)"
      ],
      "execution_count": 14,
      "outputs": [
        {
          "output_type": "stream",
          "text": [
            "[[0 1 1 1 1]\n",
            " [1 0 1 1 1]\n",
            " [1 1 0 1 1]\n",
            " [1 1 1 0 1]\n",
            " [1 1 1 1 0]]\n"
          ],
          "name": "stdout"
        }
      ]
    },
    {
      "cell_type": "code",
      "metadata": {
        "colab": {
          "base_uri": "https://localhost:8080/"
        },
        "id": "jMRWFNgKmueq",
        "outputId": "26cbeda0-a2de-403a-cff0-c4969b1ec283"
      },
      "source": [
        "n = input(\"entre com o numero de vertices;\n",
        "\")\n"
      ],
      "execution_count": 40,
      "outputs": [
        {
          "output_type": "stream",
          "text": [
            "entre com o numero de vertices;5\n"
          ],
          "name": "stdout"
        }
      ]
    },
    {
      "cell_type": "markdown",
      "metadata": {
        "id": "Ie4nvPM1nlB_"
      },
      "source": [
        "aperte o \"play\"e gere os rótulos dos seus vértices"
      ]
    },
    {
      "cell_type": "code",
      "metadata": {
        "colab": {
          "base_uri": "https://localhost:8080/"
        },
        "id": "3jSuDsiGnx-i",
        "outputId": "50af59a2-2ff6-4b9f-9fbc-b89b7666115a"
      },
      "source": [
        "num=int(str(n))\n",
        "print(num)"
      ],
      "execution_count": 41,
      "outputs": [
        {
          "output_type": "stream",
          "text": [
            "5\n"
          ],
          "name": "stdout"
        }
      ]
    },
    {
      "cell_type": "code",
      "metadata": {
        "id": "2eZiWxE5xrL5"
      },
      "source": [
        ""
      ],
      "execution_count": null,
      "outputs": []
    },
    {
      "cell_type": "code",
      "metadata": {
        "colab": {
          "base_uri": "https://localhost:8080/"
        },
        "id": "MIpgM5Fys0tE",
        "outputId": "d9343af5-d441-4b4a-b471-541510c15812"
      },
      "source": [
        "G = nx.path_graph(num)\n",
        "list(G.nodes)\n"
      ],
      "execution_count": 43,
      "outputs": [
        {
          "output_type": "execute_result",
          "data": {
            "text/plain": [
              "[0, 1, 2, 3, 4]"
            ]
          },
          "metadata": {
            "tags": []
          },
          "execution_count": 43
        }
      ]
    },
    {
      "cell_type": "code",
      "metadata": {
        "colab": {
          "base_uri": "https://localhost:8080/"
        },
        "id": "qmCjA4Y9xs5D",
        "outputId": "d18fab67-c0f7-45ce-91d7-6f33581a8eac"
      },
      "source": [
        "m = int(input(\"Enter number of edges : \"))\n",
        " \n",
        "\n",
        "\n"
      ],
      "execution_count": 61,
      "outputs": [
        {
          "output_type": "stream",
          "text": [
            "Enter number of edges : 7\n"
          ],
          "name": "stdout"
        }
      ]
    },
    {
      "cell_type": "code",
      "metadata": {
        "colab": {
          "base_uri": "https://localhost:8080/"
        },
        "id": "DJK3rMyzzf5C",
        "outputId": "cc2e0d1a-cfc6-45b1-d796-44eb34827605"
      },
      "source": [
        "# creating an empty list\n",
        "lst = []\n",
        "# iterating till the range\n",
        "for i in range(0, m):\n",
        "    ele = str(input())\n",
        "    lst.append(ele) # adding the element\n",
        "     \n",
        "print(lst)\n",
        " "
      ],
      "execution_count": 73,
      "outputs": [
        {
          "output_type": "stream",
          "text": [
            "01\n",
            "12\n",
            "13\n",
            "23\n",
            "24\n",
            "02\n",
            "34\n",
            "['01', '12', '13', '23', '24', '02', '34']\n"
          ],
          "name": "stdout"
        }
      ]
    },
    {
      "cell_type": "code",
      "metadata": {
        "colab": {
          "base_uri": "https://localhost:8080/",
          "height": 319
        },
        "id": "mMobhXkNxHDv",
        "outputId": "0c46de06-f3bd-4428-a342-e493b5c0beae"
      },
      "source": [
        "G = nx.Graph(lst)\n",
        "opts = { \"with_labels\": True, \"node_color\": 'y' }\n",
        "nx.draw(G, **opts)"
      ],
      "execution_count": 74,
      "outputs": [
        {
          "output_type": "display_data",
          "data": {
            "image/png": "[encoded data removed]",
            "text/plain": [
              "<Figure size 432x288 with 1 Axes>"
            ]
          },
          "metadata": {
            "tags": []
          }
        }
      ]
    },
    {
      "cell_type": "code",
      "metadata": {
        "colab": {
          "base_uri": "https://localhost:8080/"
        },
        "id": "Qp282hLn3NVD",
        "outputId": "64f85d27-9cbf-45a4-965e-367609448b37"
      },
      "source": [
        "A = nx.adjacency_matrix(G)\n",
        "print(A)"
      ],
      "execution_count": 75,
      "outputs": [
        {
          "output_type": "stream",
          "text": [
            "  (0, 1)\t1\n",
            "  (0, 2)\t1\n",
            "  (1, 0)\t1\n",
            "  (1, 2)\t1\n",
            "  (1, 3)\t1\n",
            "  (2, 0)\t1\n",
            "  (2, 1)\t1\n",
            "  (2, 3)\t1\n",
            "  (2, 4)\t1\n",
            "  (3, 1)\t1\n",
            "  (3, 2)\t1\n",
            "  (3, 4)\t1\n",
            "  (4, 2)\t1\n",
            "  (4, 3)\t1\n"
          ],
          "name": "stdout"
        }
      ]
    },
    {
      "cell_type": "code",
      "metadata": {
        "colab": {
          "base_uri": "https://localhost:8080/"
        },
        "id": "JxsBTvd-3XHD",
        "outputId": "955afc14-b829-40f7-fa5d-7804460b7d21"
      },
      "source": [
        "A = nx.adjacency_matrix(G).toarray()\n",
        "\n",
        "print(A)"
      ],
      "execution_count": 76,
      "outputs": [
        {
          "output_type": "stream",
          "text": [
            "[[0 1 1 0 0]\n",
            " [1 0 1 1 0]\n",
            " [1 1 0 1 1]\n",
            " [0 1 1 0 1]\n",
            " [0 0 1 1 0]]\n"
          ],
          "name": "stdout"
        }
      ]
    }
  ]
}