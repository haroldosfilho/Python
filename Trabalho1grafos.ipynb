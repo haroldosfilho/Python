{
  "nbformat": 4,
  "nbformat_minor": 0,
  "metadata": {
    "colab": {
      "name": "Trabalho1grafos.ipynb",
      "provenance": [],
      "include_colab_link": true
    },
    "kernelspec": {
      "display_name": "Python 3",
      "name": "python3"
    },
    "language_info": {
      "name": "python"
    }
  },
  "cells": [
    {
      "cell_type": "markdown",
      "metadata": {
        "id": "view-in-github",
        "colab_type": "text"
      },
      "source": [
        "<a href=\"https://colab.research.google.com/github/haroldosfilho/Python/blob/master/Trabalho1grafos.ipynb\" target=\"_parent\"><img src=\"https://colab.research.google.com/assets/colab-badge.svg\" alt=\"Open In Colab\"/></a>"
      ]
    },
    {
      "cell_type": "code",
      "metadata": {
        "colab": {
          "base_uri": "https://localhost:8080/",
          "height": 1000
        },
        "id": "D9JioHP5miYp",
        "outputId": "cf9bcde3-1db2-4440-8b02-2134100d9a91"
      },
      "source": [
        "\n",
        "\n",
        "import numpy\n",
        "#NetworkX é um pacote Python utilizado para manipulação de grafos\n",
        "import networkx as nx\n",
        "import matplotlib.pyplot as plt \n",
        "\n",
        "from numpy import save\n",
        "from numpy import load\n",
        "#o módulo glob é usado para recuperar arquivos / nomes de caminhos que correspondam a um padrão especificado\n",
        "import glob, os\n",
        "\n",
        "def grafosnamemoria():\n",
        "  print(\"\\nGrafos na memória:\")\n",
        "  for file in glob.glob(\"*.npy\"):\n",
        "      print(file)\n",
        "\n",
        "def matriztriangular(graf, n):\n",
        "    for i in range(1, n):\n",
        "        for j in range(i+1):\n",
        "            graf[i, j] = graf[j, i]\n",
        "\n",
        "def desenhagrafo(adjacent, N):\n",
        "    G = nx.Graph() \n",
        "    for i in range(N): \n",
        "        for j in range(N): \n",
        "            if adjacent[i][j] == 1: \n",
        "                G.add_edge(i+1,j+1)  \n",
        "    \n",
        "    opts = { \"with_labels\": True, \"node_color\": 'y' }\n",
        "    nx.draw(G, **opts)\n",
        "\n",
        "    plt.show()        \n",
        "\n",
        "\n",
        "def imprimematriz(graf, N):   \n",
        "    for i in range(N):\n",
        "        for j in range(N):\n",
        "            print(graf[i][j], end = \" \")\n",
        "        print()\n",
        "    print()\n",
        "\n",
        "def grafoexistente(fileName):\n",
        "  return os.path.isfile(fileName)\n",
        "\n",
        "def elementosdamatrizsimetrica(graf, N):   \n",
        "    # carrega elementos da matriz acima da diagonal principal\n",
        "    print(\"1 = Há aresta\\n0 = Não há aresta entre os vertices\\n\")\n",
        "    for i in range(N):  # linhas\n",
        "        for j in range(N):  # colunas\n",
        "            if i<j:              \n",
        "              graf[i][j] = int(input(\"Insira o elemento [{}][{}] da matriz:\\n\".format(i+1, j+1)))\n",
        "def subMenucarregagrafo():\n",
        "    grafosnamemoria()\n",
        "    nomeGrafo = input(\"Informe o nome do grafo a ser carregado(sem extensão)!\\n\")\n",
        "    data = load(nomeGrafo+'.npy')\n",
        "    print(data)\n",
        "    print(\"Figura.\")\n",
        "    desenhagrafo(data, len(data))\n",
        "\n",
        "def subMenuCriagrafo():\n",
        "\n",
        "    numgrafo = 0\n",
        "    while True:\n",
        "      if numgrafo == 0:\n",
        "          nomeGrafo = input(\"Informe nome do grafo(sem extensão)!\\n\")\n",
        "      else:\n",
        "          nomeGrafo = input(\"Nome já foi usado. Informe um nome para o grafo(sem extensão)!\\n\")\n",
        "      numgrafo = numgrafo + 1\n",
        "      if not grafoexistente(nomeGrafo+'.npy'):\n",
        "        break\n",
        "\n",
        "    N = int(input(\"Digite o número de vértices:\\n\"))\n",
        "    graf = numpy.zeros((N, N))\n",
        "    print(\"Informe os elementos da matriz triangular superior da matriz de adjacência do Grafo:\\n\") \n",
        "    elementosdamatrizsimetrica(graf, N)\n",
        "    matriztriangular(graf, N)     \n",
        "    save(nomeGrafo+'.npy', graf)\n",
        "    print(\"Matriz de Adjacência\")\n",
        "    for line in graf:\n",
        "      print ('  '.join(map(str, line))) \n",
        "    print()   \n",
        "    print()\n",
        "    print(\"Figura\")         \n",
        "\n",
        "    desenhagrafo(graf, N)    \n",
        "\n",
        "def menu():\n",
        "    opcao=int(input('''Opções Disponíveis:\\n1 - Carregar um grafo\\n2 - Criar um grafo\\n3 - Sair\\nEscolha:\\n '''))\n",
        "    if opcao == 1:\n",
        "        subMenucarregagrafo()\n",
        "    elif opcao == 2:\n",
        "        subMenuCriagrafo()\n",
        "    elif opcao == 3:\n",
        "        exit()\n",
        "    else:\n",
        "        print(\"Opção errada, digite: 1,2 ou 3\\n\")\n",
        "        menu()\n",
        "    return opcao    \n",
        "\n",
        "controlelaço = True\n",
        "while (controlelaço):\n",
        "    if menu() == 3:\n",
        "        controlelaço = False           "
      ],
      "execution_count": null,
      "outputs": [
        {
          "output_type": "stream",
          "text": [
            "Opções Disponíveis:\n",
            "1 - Carregar um grafo\n",
            "2 - Criar um grafo\n",
            "3 - Sair\n",
            "Escolha:\n",
            " 1\n",
            "\n",
            "Grafos na memória:\n",
            "passeio5.npy\n",
            "Informe o nome do grafo a ser carregado(sem extensão)!\n",
            "passeio5\n",
            "[[0. 1. 0. 0. 0.]\n",
            " [1. 0. 1. 0. 0.]\n",
            " [0. 1. 0. 1. 0.]\n",
            " [0. 0. 1. 0. 1.]\n",
            " [0. 0. 0. 1. 0.]]\n",
            "Figura.\n"
          ],
          "name": "stdout"
        },
        {
          "output_type": "display_data",
          "data": {
            "image/png": "[encoded data removed]",
            "text/plain": [
              "<Figure size 432x288 with 1 Axes>"
            ]
          },
          "metadata": {
            "tags": []
          }
        },
        {
          "output_type": "stream",
          "text": [
            "Opções Disponíveis:\n",
            "1 - Carregar um grafo\n",
            "2 - Criar um grafo\n",
            "3 - Sair\n",
            "Escolha:\n",
            " 2\n",
            "Informe nome do grafo(sem extensão)!\n",
            "house5\n",
            "Digite o número de vértices:\n",
            "5\n",
            "Informe os elementos da matriz triangular superior da matriz de adjacência do Grafo:\n",
            "\n",
            "1 = Há aresta\n",
            "0 = Não há aresta entre os vertices\n",
            "\n",
            "Insira o elemento [1][2] da matriz:\n",
            "1\n",
            "Insira o elemento [1][3] da matriz:\n",
            "1\n",
            "Insira o elemento [1][4] da matriz:\n",
            "0\n",
            "Insira o elemento [1][5] da matriz:\n",
            "1\n",
            "Insira o elemento [2][3] da matriz:\n",
            "1\n",
            "Insira o elemento [2][4] da matriz:\n",
            "0\n",
            "Insira o elemento [2][5] da matriz:\n",
            "0\n",
            "Insira o elemento [3][4] da matriz:\n",
            "1\n",
            "Insira o elemento [3][5] da matriz:\n",
            "0\n",
            "Insira o elemento [4][5] da matriz:\n",
            "1\n",
            "Matriz de Adjacência\n",
            "0.0  1.0  1.0  0.0  1.0\n",
            "1.0  0.0  1.0  0.0  0.0\n",
            "1.0  1.0  0.0  1.0  0.0\n",
            "0.0  0.0  1.0  0.0  1.0\n",
            "1.0  0.0  0.0  1.0  0.0\n",
            "\n",
            "\n",
            "Figura\n"
          ],
          "name": "stdout"
        },
        {
          "output_type": "display_data",
          "data": {
            "image/png": "[encoded data removed]",
            "text/plain": [
              "<Figure size 432x288 with 1 Axes>"
            ]
          },
          "metadata": {
            "tags": []
          }
        },
        {
          "output_type": "stream",
          "text": [
            "Opções Disponíveis:\n",
            "1 - Carregar um grafo\n",
            "2 - Criar um grafo\n",
            "3 - Sair\n",
            "Escolha:\n",
            " 3\n"
          ],
          "name": "stdout"
        }
      ]
    }
  ]
}